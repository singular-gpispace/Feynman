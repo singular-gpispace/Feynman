{
 "cells": [
  {
   "cell_type": "markdown",
   "metadata": {},
   "source": [
    "We assume that Julia is installed in a recent enough version to run OSCAR. We also assumed that the package Feynman is installed in working directory."
   ]
  },
  {
   "cell_type": "code",
   "execution_count": 1,
   "metadata": {},
   "outputs": [],
   "source": [
    "using Feynman"
   ]
  },
  {
   "cell_type": "markdown",
   "metadata": {
    "vscode": {
     "languageId": "julia"
    }
   },
   "source": [
    "# Example 1: Fully massless planar  box \n",
    "To provide an example on how to use our package, we calculate IBP identities (without double propagators) of the fully massless planar box. \n",
    "\n",
    "We define the graph G from the list of vertices and list of edges. The direction of momenta are taken from the direction  of edges. All external momenta are taken to be outgoing.\n",
    "\n",
    "![alt text](docs/src/img/box.png)\n"
   ]
  },
  {
   "cell_type": "code",
   "execution_count": 10,
   "metadata": {},
   "outputs": [],
   "source": [
    "G=Feynman.simple_graph([1,2,3,4],[(1,4),(1,2),(2,3),(3,4),1,2,3,4]);"
   ]
  },
  {
   "cell_type": "markdown",
   "metadata": {},
   "source": [
    "We then assign polynomial variables $q[i]$ at bounded edges and function field variables $p[i]$ at the unbounded edges over a prime filed of characteristic 0."
   ]
  },
  {
   "cell_type": "code",
   "execution_count": 11,
   "metadata": {
    "scrolled": true
   },
   "outputs": [
    {
     "name": "stdout",
     "output_type": "stream",
     "text": [
      "Graph with 4 vertices and 4 bounded edges 4 unbounded edges\n",
      "Edge terms:\n",
      "[\"(1, 4)=>q[1]\", \"(1, 2)=>q[2]\", \"(2, 3)=>q[3]\", \"(3, 4)=>q[4]\", \"1=>p[1]\", \"2=>p[2]\", \"3=>p[3]\", \"4=>p[4]\"]\n"
     ]
    }
   ],
   "source": [
    "G=labelGraph(G,0);\n",
    "printLabeledGraph(G);"
   ]
  },
  {
   "cell_type": "markdown",
   "metadata": {
    "vscode": {
     "languageId": "julia"
    }
   },
   "source": [
    "We assume that the Feynman integral is generic. So we use balancing condition of the graph (relations of momenta which are obtained by applying momentum conservation law at each vertex of the graph and to the whole graph) to rewrite each dependent momenta in terms of the eliments in the ordered set $V$ of external momenta and loop momenta. Here we use invlex ordering on $p[1],...,p[E],q[1],...,q[L]$ to choose independent external momenta and independent loop momenta (as the elimination ordering). G.elimVars will store the eliminated variables."
   ]
  },
  {
   "cell_type": "code",
   "execution_count": 12,
   "metadata": {},
   "outputs": [
    {
     "name": "stdout",
     "output_type": "stream",
     "text": [
      "Graph with 4 vertices and 4 bounded edges 4 unbounded edges\n",
      "Edge terms:\n",
      "[\"(1, 4)=>q[1]\", \"(1, 2)=>-p[1] - q[1]\", \"(2, 3)=>-p[1] - p[2] - q[1]\", \"(3, 4)=>-p[1] - p[2] - p[3] - q[1]\", \"1=>p[1]\", \"2=>p[2]\", \"3=>p[3]\", \"4=>-p[1] - p[2] - p[3]\"]\n"
     ]
    }
   ],
   "source": [
    "G=eliminateVariables(G);\n",
    "printLabeledGraph(G);"
   ]
  },
  {
   "cell_type": "markdown",
   "metadata": {
    "vscode": {
     "languageId": "julia"
    }
   },
   "source": [
    "We should remove the eliminated variables from $G$, in order to compute the Baikov matrix of $G$."
   ]
  },
  {
   "cell_type": "code",
   "execution_count": 13,
   "metadata": {},
   "outputs": [],
   "source": [
    "G=removeElimVars(G);"
   ]
  },
  {
   "cell_type": "markdown",
   "metadata": {},
   "source": [
    "We then calculate the Baikov matrix associated to Feynman integral of $G$. It will also print the assignment of Baikov variables $z[i]$ to each inverse propagators and irreducible scalar products of $G$."
   ]
  },
  {
   "cell_type": "code",
   "execution_count": 14,
   "metadata": {},
   "outputs": [
    {
     "name": "stdout",
     "output_type": "stream",
     "text": [
      "labels used for Gram matrix of external loop momenta:\n",
      "[\"p[1]*p[2] => 1//2*t[1]\"]\n",
      "[\"p[1]*p[3] => 1//2*t[2]\"]\n",
      "[\"p[2]*p[3] => -1//2*t[1] - 1//2*t[2]\"]\n",
      "Assignment of Baikov variables (Z_i) are:\n",
      "[\"z[1] => q[1]^2\"]\n",
      "[\"z[2] => 2*p[1]*q[1] + q[1]^2\"]\n",
      "[\"z[3] => 2*p[1]*p[2] + 2*p[1]*q[1] + 2*p[2]*q[1] + q[1]^2\"]\n",
      "[\"z[4] => 2*p[1]*q[1] + 2*p[2]*q[1] + 2*p[3]*q[1] + q[1]^2\"]\n"
     ]
    }
   ],
   "source": [
    "G=computeBaikovMatrix(G);"
   ]
  },
  {
   "cell_type": "code",
   "execution_count": 15,
   "metadata": {},
   "outputs": [
    {
     "data": {
      "text/plain": [
       "4×4 Matrix{AbstractAlgebra.RingElem}:\n",
       " 0                       …  -1//2*z[1] + 1//2*z[2]\n",
       " 1//2*t[1]                  -1//2*t[1] - 1//2*z[2] + 1//2*z[3]\n",
       " 1//2*t[2]                  1//2*t[1] - 1//2*z[3] + 1//2*z[4]\n",
       " -1//2*z[1] + 1//2*z[2]     z[1]"
      ]
     },
     "execution_count": 15,
     "metadata": {},
     "output_type": "execute_result"
    }
   ],
   "source": [
    "G.baikovmatrix"
   ]
  },
  {
   "cell_type": "markdown",
   "metadata": {},
   "source": [
    "couputeIBP($G$ , $nu=[\\nu_1,...,\\nu_m]$,d) computes and return IBP relations correspond to the seeds $[\\nu_1,...,\\nu_m]$ . \\\n",
    "We set the degree bound for the generators of $M_1\\cap M_2$ to $d$.\\\n",
    "For each generator $(a_1,...,a_m)$ of $M_1\\cap M_2$, the IBP identity is computed using the following:\n",
    "\\begin{equation}\n",
    "       0=\\int_{}^{} dz_1...dz_m\\left ( \\sum_{i=1}^{m} \\frac{\\partial a_i}{\\partial z_i} - \\sum_{i=1}^{m} \\frac{\\nu_ia_i}{z_i} - \\frac{D-L-E-1}{2}b \\right)\\frac{P^{\\frac{D-L-E-1}{2}}}{z_1^{\\nu_{1}}...z_m^{\\nu_m}}.\n",
    "   \\end{equation}"
   ]
  },
  {
   "cell_type": "code",
   "execution_count": 16,
   "metadata": {},
   "outputs": [],
   "source": [
    "set_IBP=computeIBP(G,[1,1,0,0],4);"
   ]
  },
  {
   "cell_type": "markdown",
   "metadata": {},
   "source": [
    "printIBP(set_IBP,n) prints the first n IBP identities computed above."
   ]
  },
  {
   "cell_type": "code",
   "execution_count": 17,
   "metadata": {},
   "outputs": [
    {
     "name": "stdout",
     "output_type": "stream",
     "text": [
      "First 3 IBP identities associated to G setting ν_1=...=ν_k=1 and ν_{k+1}<=0,...,ν_m<=0 (Total number of relations=7):\n",
      "0=2*t[1]^2G(-1,-1,0,0)+4*t[1]G(-1,0,0,0)+-4*t[1]G(-1,-1,1,0)\n",
      "\n",
      "0=-2*t[1]^2G(-1,-1,0,0)+2*t[1]G(0,-1,0,0)+-2*t[1]G(-1,0,0,0)+2*t[1]G(-1,-1,1,0)+-2*t[1]G(-1,-1,0,1)+2*t[2]G(0,-1,0,0)+-2*t[2]G(-1,-1,1,0)\n",
      "\n",
      "0=-2*t[1]^2G(-1,-1,0,0)+t[1]G(0,-1,0,0)+-3*t[1]G(-1,0,0,0)+3*t[1]G(-1,-1,1,0)+-t[1]G(-1,-1,0,1)+t[2]G(0,-1,0,0)+-t[2]G(-1,-1,1,0)\n",
      "\n"
     ]
    }
   ],
   "source": [
    "printIBP(set_IBP,3)"
   ]
  },
  {
   "cell_type": "markdown",
   "metadata": {},
   "source": [
    "*************************************************************************************************************************************************************************"
   ]
  },
  {
   "cell_type": "markdown",
   "metadata": {},
   "source": [
    "# Example 2: Fully massless planar double box \n",
    "To provide an example on how to use our package, we calculate IBP identities without double propagators of the fully massless planar double box. \n",
    "\n",
    "We define the graph G from the list of vertices and list of edges. The direction of momenta are taken from the direction  of edges. All external momenta are taken to be outgoing.\n",
    "![alt text](docs/src/img/plannar_box.png)\n"
   ]
  },
  {
   "cell_type": "code",
   "execution_count": 10,
   "metadata": {},
   "outputs": [],
   "source": [
    "G=simple_graph([1,2,3,4,5,6],[(6,1),(4,6),(1,2),(3,5),(4,3),(2,5),(5,6),1,2,3,4]);"
   ]
  },
  {
   "cell_type": "code",
   "execution_count": null,
   "metadata": {},
   "outputs": [],
   "source": [
    "G=Feynman.labelGraph(G,0);\n",
    "G=Feynman.eliminateVariables(G);\n",
    "G=Feynman.removeElimVars(G);\n",
    "G=Feynman.computeBaikovMatrix(G);\n",
    "nu=[1,0,1,0,0,0,1,0,0];"
   ]
  },
  {
   "cell_type": "code",
   "execution_count": 12,
   "metadata": {},
   "outputs": [],
   "source": [
    "x=computeIBP(G,nu,4);"
   ]
  },
  {
   "cell_type": "code",
   "execution_count": null,
   "metadata": {},
   "outputs": [],
   "source": [
    "printIBP(x,5)"
   ]
  }
 ],
 "metadata": {
  "kernelspec": {
   "display_name": "Julia 1.10.4",
   "language": "julia",
   "name": "julia-1.10"
  },
  "language_info": {
   "file_extension": ".jl",
   "mimetype": "application/julia",
   "name": "julia",
   "version": "1.10.4"
  }
 },
 "nbformat": 4,
 "nbformat_minor": 4
}
