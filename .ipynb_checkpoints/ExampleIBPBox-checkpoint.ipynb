{
 "cells": [
  {
   "cell_type": "markdown",
   "metadata": {},
   "source": [
    "We assume that Julia is installed in a recent enough version to run OSCAR. We also assumed that the package Feynman is installed in working directory."
   ]
  },
  {
   "cell_type": "code",
   "execution_count": 1,
   "metadata": {},
   "outputs": [],
   "source": [
    "using Feynman"
   ]
  },
  {
   "cell_type": "markdown",
   "metadata": {
    "vscode": {
     "languageId": "julia"
    }
   },
   "source": [
    "# Example 1: Fully massless planar  box \n",
    "To provide an example on how to use our package, we calculate IBP identities (without double propagators) of the fully massless planar box. \n",
    "\n",
    "We define the graph G from the list of vertices and list of edges. The direction of momenta are taken from the direction  of edges. All external momenta are taken to be outgoing.\n",
    "\n",
    "![alt text](docs/src/img/box.png)\n"
   ]
  },
  {
   "cell_type": "code",
   "execution_count": 2,
   "metadata": {},
   "outputs": [],
   "source": [
    "G=Feynman.simple_graph([1,2,3,4],[(1,4),(1,2),(2,3),(3,4),1,2,3,4]);"
   ]
  },
  {
   "cell_type": "markdown",
   "metadata": {},
   "source": [
    "We then assign polynomial variables $q[i]$ at bounded edges and function field variables $p[i]$ at the unbounded edges over a prime filed of characteristic 0."
   ]
  },
  {
   "cell_type": "code",
   "execution_count": null,
   "metadata": {},
   "outputs": [],
   "source": [
    "G=labelGraph(G,0);\n",
    "printLabeledGraph(G);"
   ]
  },
  {
   "cell_type": "markdown",
   "metadata": {
    "vscode": {
     "languageId": "julia"
    }
   },
   "source": [
    "We assume that the Feynman integral is generic. So we use balancing condition of the graph (relations of momenta which are obtained by applying momentum conservation law at each vertex of the graph and to the whole graph) to rewrite each dependent momenta in terms of the eliments in the ordered set $V$ of external momenta and loop momenta. Here we use invlex ordering on $p[1],...,p[E],q[1],...,q[L]$ to choose independent external momenta and independent loop momenta (as the elimination ordering). G.elimVars will store the eliminated variables."
   ]
  },
  {
   "cell_type": "code",
   "execution_count": null,
   "metadata": {},
   "outputs": [],
   "source": [
    "G=eliminateVariables(G);\n",
    "printLabeledGraph(G);"
   ]
  },
  {
   "cell_type": "markdown",
   "metadata": {
    "vscode": {
     "languageId": "julia"
    }
   },
   "source": [
    "We should remove the eliminated variables from $G$, in order to compute the Baikov matrix of $G$."
   ]
  },
  {
   "cell_type": "code",
   "execution_count": 6,
   "metadata": {},
   "outputs": [],
   "source": [
    "G=removeElimVars(G);"
   ]
  },
  {
   "cell_type": "markdown",
   "metadata": {},
   "source": [
    "We then calculate the Baikov matrix associated to Feynman integral of $G$. It will also print the assignment of Baikov variables $z[i]$ to each inverse propagators and irreducible scalar products of $G$."
   ]
  },
  {
   "cell_type": "code",
   "execution_count": null,
   "metadata": {},
   "outputs": [],
   "source": [
    "G=computeBaikovMatrix(G);"
   ]
  },
  {
   "cell_type": "code",
   "execution_count": null,
   "metadata": {},
   "outputs": [],
   "source": [
    "G.baikovmatrix"
   ]
  },
  {
   "cell_type": "markdown",
   "metadata": {},
   "source": [
    "couputeIBP($G$ , $nu=[\\nu_1,...,\\nu_m]$,d) computes IBP identities where integrals are in $\\mathbb{F}_{ndp}$ i.e. integrals without double propagators. \\\n",
    "We set the degree bound for the generators of $M_1\\cap M_2$ to $d$.\\\n",
    "Here we consider the integral of the parent diagram, $\\nu_1=1,...,\\nu_k=1,\\nu_{k+1} \\leq 0,...,\\nu_m \\leq 0$ (This was encoded in the module $M_2$ ).\\\n",
    "For each generator $(a_1,...,a_m)$ of $M_1\\cap M_2$, the IBP identity is computed using the following:\n",
    "\\begin{equation}\n",
    "       0=\\int_{}^{} dz_1...dz_m\\left ( \\sum_{i=1}^{m} \\frac{\\partial a_i}{\\partial z_i} - \\sum_{i=1}^{k}b_i - \\sum_{i=k+1}^{m} \\frac{\\nu_ia_i}{z_i} - \\frac{D-L-E-1}{2}b \\right)\\frac{P^{\\frac{D-L-E-1}{2}}}{z_1...z_kz_{k+1}^{\\nu_{k+1}}...z_m^{\\nu_m}}.\n",
    "   \\end{equation}"
   ]
  },
  {
   "cell_type": "code",
   "execution_count": 11,
   "metadata": {},
   "outputs": [],
   "source": [
    "set_IBP=computeIBP(G,[1,1,0,0],4);"
   ]
  },
  {
   "cell_type": "markdown",
   "metadata": {},
   "source": [
    "printIBP(set_IBP,n) prints the first n IBP identities computed above."
   ]
  },
  {
   "cell_type": "code",
   "execution_count": null,
   "metadata": {},
   "outputs": [],
   "source": [
    "printIBP(set_IBP,3)"
   ]
  },
  {
   "cell_type": "markdown",
   "metadata": {},
   "source": [
    "*************************************************************************************************************************************************************************"
   ]
  },
  {
   "cell_type": "markdown",
   "metadata": {},
   "source": [
    "# Example 2: Fully massless planar double box \n",
    "To provide an example on how to use our package, we calculate IBP identities without double propagators of the fully massless planar double box. \n",
    "\n",
    "We define the graph G from the list of vertices and list of edges. The direction of momenta are taken from the direction  of edges. All external momenta are taken to be outgoing.\n",
    "![alt text](docs/src/img/plannar_box.png)\n"
   ]
  },
  {
   "cell_type": "code",
   "execution_count": 13,
   "metadata": {},
   "outputs": [],
   "source": [
    "G=simple_graph([1,2,3,4,5,6],[(6,1),(4,6),(1,2),(3,5),(4,3),(2,5),(5,6),1,2,3,4]);"
   ]
  },
  {
   "cell_type": "code",
   "execution_count": null,
   "metadata": {},
   "outputs": [],
   "source": [
    "G=Feynman.labelGraph(G,0);\n",
    "G=Feynman.eliminateVariables(G);\n",
    "G=Feynman.removeElimVars(G);\n",
    "G=Feynman.computeBaikovMatrix(G);\n",
    "nu=[1,1,1,0,0,0,0,0,0];"
   ]
  },
  {
   "cell_type": "code",
   "execution_count": 15,
   "metadata": {},
   "outputs": [],
   "source": [
    "x=computeIBP(G,nu,4);"
   ]
  },
  {
   "cell_type": "code",
   "execution_count": 16,
   "metadata": {},
   "outputs": [
    {
     "name": "stdout",
     "output_type": "stream",
     "text": [
      "First 5 IBP identities associated to G setting ν_1=...=ν_k=1 and ν_{k+1}<=0,...,ν_m<=0 (Total number of relations)=21:\n",
      "0=-6*t[2]G(-1,-1,0,0,0,0,0,0,0)\n",
      "\n",
      "0=t[1]G(-1,0,-1,0,0,0,0,0,0)+5*t[2]G(-1,0,-1,0,0,0,0,0,0)+4*t[2]G(-1,-1,-1,0,0,1,0,0,0)+-4*t[2]G(-1,-1,-1,0,0,0,0,0,1)+-1G(-1,0,-1,0,0,0,1,0,0)+1G(-1,0,-1,0,0,0,0,1,0)\n",
      "\n",
      "0=-2*t[1]G(-1,-1,0,0,0,0,0,0,0)+-t[2]G(-1,0,-1,0,0,0,0,0,0)+-3*t[2]G(-1,-1,0,0,0,0,0,0,0)+-20G(0,-1,-1,0,0,1,0,0,0)+2G(-1,-1,0,0,0,0,1,0,0)+-2G(-1,-1,0,0,0,0,0,1,0)\n",
      "\n",
      "0=-10*t[1]^2G(-1,-1,-1,0,0,0,0,0,0)+8*t[1]*t[2]G(-1,-1,-1,0,0,0,0,0,0)+2*t[1]G(-1,0,-1,0,0,0,0,0,0)+-4*t[1]G(-1,-1,0,0,0,0,0,0,0)+2*t[1]G(-1,-1,-1,1,0,0,0,0,0)+16*t[1]G(-1,-1,-1,0,1,0,0,0,0)+10*t[1]G(-1,-1,-1,0,0,0,1,0,0)+-10*t[1]G(-1,-1,-1,0,0,0,0,1,0)+8*t[2]G(-1,0,-1,0,0,0,0,0,0)+-8*t[2]G(-1,-1,-1,0,1,0,0,0,0)+10*t[2]G(-1,-1,-1,0,0,1,0,0,0)+-8*t[2]G(-1,-1,-1,0,0,0,0,0,1)+8G(-1,0,-1,0,1,0,0,0,0)+-8G(-1,0,-1,0,0,0,1,0,0)+8G(-1,0,-1,0,0,0,0,1,0)+4G(-1,-1,0,0,0,1,0,0,0)+6G(-1,-1,0,0,0,0,1,0,0)+-4G(-1,-1,-1,1,1,0,0,0,0)+4G(-1,-1,-1,0,1,0,1,0,0)+-4G(-1,-1,-1,0,1,0,0,1,0)\n",
      "\n",
      "0=-8*t[1]^2G(-1,-1,-1,0,0,0,0,0,0)+8*t[1]*t[2]G(-1,-1,-1,0,0,0,0,0,0)+4*t[1]G(-1,0,-1,0,0,0,0,0,0)+-4*t[1]G(-1,-1,0,0,0,0,0,0,0)+8*t[1]G(-1,-1,-1,1,0,0,0,0,0)+-4*t[1]G(-1,-1,-1,0,1,0,0,0,0)+8*t[1]G(-1,-1,-1,0,0,1,0,0,0)+8*t[1]G(-1,-1,-1,0,0,0,1,0,0)+-8*t[1]G(-1,-1,-1,0,0,0,0,1,0)+-8*t[1]G(-1,-1,-1,0,0,0,0,0,1)+8*t[2]G(-1,0,-1,0,0,0,0,0,0)+-8*t[2]G(-1,-1,-1,0,1,0,0,0,0)+10*t[2]G(-1,-1,-1,0,0,1,0,0,0)+-8*t[2]G(-1,-1,-1,0,0,0,0,0,1)+4G(-1,0,-1,0,1,0,0,0,0)+8G(-1,-1,0,0,1,0,0,0,0)+-8G(-1,-1,-1,1,0,0,1,0,0)+8G(-1,-1,-1,1,0,0,0,1,0)+4G(-1,-1,-1,0,1,0,1,0,0)+-4G(-1,-1,-1,0,1,0,0,1,0)\n",
      "\n"
     ]
    }
   ],
   "source": [
    "printIBP(x,5)"
   ]
  }
 ],
 "metadata": {
  "kernelspec": {
   "display_name": "Julia 1.10.4",
   "language": "julia",
   "name": "julia-1.10"
  },
  "language_info": {
   "file_extension": ".jl",
   "mimetype": "application/julia",
   "name": "julia",
   "version": "1.10.4"
  }
 },
 "nbformat": 4,
 "nbformat_minor": 4
}
