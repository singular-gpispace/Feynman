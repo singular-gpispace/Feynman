{
 "cells": [
  {
   "cell_type": "markdown",
   "metadata": {},
   "source": [
    "We assume that Julia is installed in a recent enough version to run OSCAR. We also assumed that the package Feynman is installed in working directory."
   ]
  },
  {
   "cell_type": "code",
   "execution_count": 2,
   "metadata": {},
   "outputs": [],
   "source": [
    "using Feynman"
   ]
  },
  {
   "cell_type": "markdown",
   "metadata": {
    "vscode": {
     "languageId": "julia"
    }
   },
   "source": [
    "# Example: Fully massless planar  box \n",
    "To provide an example on how to use our package, we calculate the Baikov matrix of the fully massless planar double box. \n",
    "\n",
    "We define the graph G from the list of vertices and list of edges. The direction of momenta are taken from the direction  of edges. All external momenta are taken to be outgoing.\n",
    "\n"
   ]
  },
  {
   "cell_type": "code",
   "execution_count": 3,
   "metadata": {},
   "outputs": [],
   "source": [
    "G=Feynman.simple_graph([1,2,3,4],[(1,4),(1,2),(2,3),(3,4),1,2,3,4]);"
   ]
  },
  {
   "cell_type": "markdown",
   "metadata": {},
   "source": [
    "We then assign polynomial variables $q[i]$ at bounded edges and function field variables $p[i]$ at the unbounded edges over a prime filed of characteristic 0."
   ]
  },
  {
   "cell_type": "code",
   "execution_count": 4,
   "metadata": {},
   "outputs": [
    {
     "name": "stdout",
     "output_type": "stream",
     "text": [
      "Graph with 4 vertices and 4 bounded edges 4 unbounded edges\n",
      "Edge terms:\n",
      "[\"(1, 4)=>q[1]\", \"(1, 2)=>q[2]\", \"(2, 3)=>q[3]\", \"(3, 4)=>q[4]\", \"1=>p[1]\", \"2=>p[2]\", \"3=>p[3]\", \"4=>p[4]\"]\n"
     ]
    }
   ],
   "source": [
    "G=labelGraph(G,0);\n",
    "printLabeledGraph(G);"
   ]
  },
  {
   "cell_type": "markdown",
   "metadata": {
    "vscode": {
     "languageId": "julia"
    }
   },
   "source": [
    "We assume that the Feynman integral is generic. So we use balancing condition of the graph (realtions of momenta which are obtained by applying momentum conservation law at each vertex of the graph and to the whole graph) to rewrite each dependent momenta in terms of the eliments in the ordered set $V$ of external momenta and loop momenta. Here we use invlex ordering on $p[1],...,p[E],q[1],...,q[L]$ to choose independent external momenta and independent loop momenta (as the elimination ordering). G.elimVars will store the eliminated variables."
   ]
  },
  {
   "cell_type": "code",
   "execution_count": 5,
   "metadata": {},
   "outputs": [
    {
     "name": "stdout",
     "output_type": "stream",
     "text": [
      "Graph with 4 vertices and 4 bounded edges 4 unbounded edges\n",
      "Edge terms:\n",
      "[\"(1, 4)=>q[1]\", \"(1, 2)=>-p[1] - q[1]\", \"(2, 3)=>-p[1] - p[2] - q[1]\", \"(3, 4)=>-p[1] - p[2] - p[3] - q[1]\", \"1=>p[1]\", \"2=>p[2]\", \"3=>p[3]\", \"4=>-p[1] - p[2] - p[3]\"]\n"
     ]
    }
   ],
   "source": [
    "G=eliminateVariables(G);\n",
    "printLabeledGraph(G);"
   ]
  },
  {
   "cell_type": "code",
   "execution_count": 6,
   "metadata": {
    "scrolled": true
   },
   "outputs": [
    {
     "data": {
      "text/plain": [
       "4-element Vector{Nemo.QQMPolyRingElem}:\n",
       " p[4]\n",
       " q[2]\n",
       " q[3]\n",
       " q[4]"
      ]
     },
     "execution_count": 6,
     "metadata": {},
     "output_type": "execute_result"
    }
   ],
   "source": [
    "G.elimvar"
   ]
  },
  {
   "cell_type": "markdown",
   "metadata": {
    "vscode": {
     "languageId": "julia"
    }
   },
   "source": [
    "We should remove the eliminated variables from $G$, in order to compute the Baikov matrix of $G$."
   ]
  },
  {
   "cell_type": "code",
   "execution_count": 7,
   "metadata": {},
   "outputs": [],
   "source": [
    "G=removeElimVars(G);"
   ]
  },
  {
   "cell_type": "markdown",
   "metadata": {},
   "source": [
    "We then calculate the Baikov matrix associated to Feynman integral of $G$. It will also print the assignment of Baikov variables $z[i]$ to each inverse propagators and irreducible scalar products of $G$."
   ]
  },
  {
   "cell_type": "code",
   "execution_count": null,
   "metadata": {},
   "outputs": [],
   "source": [
    "G=computeBaikovMatrix(G);"
   ]
  },
  {
   "cell_type": "code",
   "execution_count": null,
   "metadata": {},
   "outputs": [],
   "source": [
    "G.baikovmatrix"
   ]
  },
  {
   "cell_type": "markdown",
   "metadata": {},
   "source": [
    "The function couputeIBP(labeled_graph, number_of_inverse_propagators, degree_bound_for_generators_of_intersection_of_modules ) computes IBP identities associated to the generators of the Groebner basis of $M_1 \\cap M_2$ (Using the method described in the paper \"Complete sets of logarithmic vector fields for integration-by-part identities of Feynman integrals\").\n"
   ]
  },
  {
   "cell_type": "code",
   "execution_count": null,
   "metadata": {},
   "outputs": [],
   "source": [
    "computeIBP(G,3,4)"
   ]
  }
 ],
 "metadata": {
  "kernelspec": {
   "display_name": "Julia 1.10.4",
   "language": "julia",
   "name": "julia-1.10"
  },
  "language_info": {
   "file_extension": ".jl",
   "mimetype": "application/julia",
   "name": "julia",
   "version": "1.10.4"
  }
 },
 "nbformat": 4,
 "nbformat_minor": 4
}
