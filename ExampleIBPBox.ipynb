{
 "cells": [
  {
   "cell_type": "markdown",
   "metadata": {},
   "source": [
    "We assume that Julia is installed in a recent enough version to run OSCAR. We also assumed that the package Feynman is installed in working directory."
   ]
  },
  {
   "cell_type": "code",
   "execution_count": 1,
   "metadata": {},
   "outputs": [],
   "source": [
    "using Feynman"
   ]
  },
  {
   "cell_type": "markdown",
   "metadata": {
    "vscode": {
     "languageId": "julia"
    }
   },
   "source": [
    "# Example 1: Fully massless planar  box \n",
    "To provide an example on how to use our package, we calculate IBP identities (without double propagators) of the fully massless planar box. \n",
    "\n",
    "We define the graph G from the list of vertices and list of edges. The direction of momenta are taken from the direction  of edges. All external momenta are taken to be outgoing.\n",
    "\n",
    "![alt text](docs/src/img/box.png)\n"
   ]
  },
  {
   "cell_type": "code",
   "execution_count": 2,
   "metadata": {},
   "outputs": [],
   "source": [
    "G=Feynman.simple_graph([1,2,3,4],[(1,4),(1,2),(2,3),(3,4),1,2,3,4]);"
   ]
  },
  {
   "cell_type": "markdown",
   "metadata": {},
   "source": [
    "couputeIBP($G$ , $nu=[\\nu_1,...,\\nu_m]$,d,showGens) computes and return IBP relations correspond to the seeds $[\\nu_1,...,\\nu_m]$ . \\\n",
    "We set the degree bound for the generators of $M_1\\cap M_2$ to $d$. showGens set to true if we want to see the generators of the modules $M_1$ and $M_2$.\\\n",
    "For each generator $(a_1,...,a_m)$ of $M_1\\cap M_2$, the IBP identity is computed using the following:\n",
    "\\begin{equation}\n",
    "       0=\\int_{}^{} dz_1...dz_m\\left ( \\sum_{i=1}^{m} \\frac{\\partial a_i}{\\partial z_i} - \\sum_{i=1}^{m} \\frac{\\nu_ia_i}{z_i} - \\frac{D-L-E-1}{2}b \\right)\\frac{P^{\\frac{D-L-E-1}{2}}}{z_1^{\\nu_{1}}...z_m^{\\nu_m}}.\n",
    "   \\end{equation}"
   ]
  },
  {
   "cell_type": "code",
   "execution_count": 3,
   "metadata": {},
   "outputs": [
    {
     "name": "stdout",
     "output_type": "stream",
     "text": [
      "labels used for Gram matrix of external loop momenta:\n",
      "[\"p[1]*p[2] => 1//2*t[1]\"]\n",
      "[\"p[1]*p[3] => 1//2*t[2]\"]\n",
      "[\"p[2]*p[3] => -1//2*t[1] - 1//2*t[2]\"]\n",
      "Assignment of Baikov variables (Z_i) are:\n",
      "[\"z[1] => q[1]^2\"]\n",
      "[\"z[2] => 2*p[1]*q[1] + q[1]^2\"]\n",
      "[\"z[3] => 2*p[1]*p[2] + 2*p[1]*q[1] + 2*p[2]*q[1] + q[1]^2\"]\n",
      "[\"z[4] => 2*p[1]*q[1] + 2*p[2]*q[1] + 2*p[3]*q[1] + q[1]^2\"]\n",
      "Generators of M1 are:\n",
      "[-z_1*gen(4)-z_1*gen(3)-z_1*gen(2)-z_1*gen(1)+z_2*gen(4)+z_2*gen(3)+z_2*gen(2)+z_2*gen(1)+t_2*gen(4)+t_1*gen(4)+t_1*gen(3), -z_2*gen(4)-z_2*gen(3)-z_2*gen(2)-z_2*gen(1)+z_3*gen(4)+z_3*gen(3)+z_3*gen(2)+z_3*gen(1)-t_2*gen(4)-t_1*gen(4)-t_1*gen(1), -z_3*gen(4)-z_3*gen(3)-z_3*gen(2)-z_3*gen(1)+z_4*gen(4)+z_4*gen(3)+z_4*gen(2)+z_4*gen(1)+t_2*gen(2)+t_1*gen(2)+t_1*gen(1), z_1*gen(4)+z_1*gen(3)+z_1*gen(2)+2*z_1*gen(1)+z_2*gen(2)+z_3*gen(3)+z_4*gen(4)-t_1*gen(3)]\n",
      "Generators of M2 are:\n",
      "[z_1*gen(1), z_2*gen(2), z_3*gen(3), gen(4)]\n"
     ]
    }
   ],
   "source": [
    "set_IBP=computeIBP(G,[1,1,1,0],8,true);"
   ]
  },
  {
   "cell_type": "markdown",
   "metadata": {},
   "source": [
    "printIBP(set_IBP,n) prints the first n IBP identities computed above."
   ]
  },
  {
   "cell_type": "code",
   "execution_count": 4,
   "metadata": {},
   "outputs": [
    {
     "name": "stdout",
     "output_type": "stream",
     "text": [
      "First 3 IBP identities associated to G  (Total number of relations=10):\n",
      "0=(4*t[1]^2*D - 22*t[1]^2 + 4*t[1]*t[2]*D - 30*t[1]*t[2] - 8*t[2]^2)I(-1,-1,-1,0)+(-4*t[1]*D + 26*t[1] - 4*t[2]*D + 26*t[2])I(0,-1,-1,0)+(9*t[1]*D - 62*t[1])I(-1,0,-1,0)+(-8*t[1]*D + 54*t[1] + 6*t[2])I(-1,-1,0,0)+(-2*t[1]*D + 22*t[1] + 8*t[2]*D - 48*t[2])I(-1,-1,-1,1)+(2*D - 16)I(-1,0,-1,1)+(-4*D + 32)I(-1,-1,-1,2)\n",
      "\n",
      "0=(t[1]*D - 8*t[1] - 2*t[2])I(-1,-1,-1,0)+(-2*D + 14)I(0,-1,-1,0)+(2*D - 14)I(-1,-1,-1,1)\n",
      "\n",
      "0=(-t[1] - t[2])I(-1,-1,-1,0)+(-D + 7)I(-1,0,-1,0)+(D - 7)I(-1,-1,-1,1)\n",
      "\n"
     ]
    }
   ],
   "source": [
    "printIBP(set_IBP.setIBP,3);"
   ]
  },
  {
   "cell_type": "markdown",
   "metadata": {},
   "source": [
    "*************************************************************************************************************************************************************************"
   ]
  },
  {
   "cell_type": "markdown",
   "metadata": {},
   "source": [
    "# Example 2: Fully massless planar double box \n",
    "To provide an example on how to use our package, we calculate IBP identities without double propagators of the fully massless planar double box. \n",
    "\n",
    "We define the graph G from the list of vertices and list of edges. The direction of momenta are taken from the direction  of edges. All external momenta are taken to be outgoing.\n",
    "![alt text](docs/src/img/plannar_box.png)\n"
   ]
  },
  {
   "cell_type": "code",
   "execution_count": 5,
   "metadata": {},
   "outputs": [],
   "source": [
    "G=simple_graph([1,2,3,4,5,6],[(6,1),(4,6),(1,2),(3,5),(4,3),(2,5),(5,6),1,2,3,4]);"
   ]
  },
  {
   "cell_type": "markdown",
   "metadata": {},
   "source": [
    "couputeIBP($G$ , $nu=[\\nu_1,...,\\nu_m]$,d,showGens) computes and return IBP relations correspond to the seeds $[\\nu_1,...,\\nu_m]$ . \\\n",
    "We set the degree bound for the generators of $M_1\\cap M_2$ to $d$. showGens set to true if we want to see the generators of the modules $M_1$ and $M_2$.\\\n",
    "For each generator $(a_1,...,a_m)$ of $M_1\\cap M_2$, the IBP identity is computed using the following:\n",
    "\\begin{equation}\n",
    "       0=\\int_{}^{} dz_1...dz_m\\left ( \\sum_{i=1}^{m} \\frac{\\partial a_i}{\\partial z_i} - \\sum_{i=1}^{m} \\frac{\\nu_ia_i}{z_i} - \\frac{D-L-E-1}{2}b \\right)\\frac{P^{\\frac{D-L-E-1}{2}}}{z_1^{\\nu_{1}}...z_m^{\\nu_m}}.\n",
    "   \\end{equation}"
   ]
  },
  {
   "cell_type": "code",
   "execution_count": 6,
   "metadata": {},
   "outputs": [
    {
     "name": "stdout",
     "output_type": "stream",
     "text": [
      "labels used for Gram matrix of external loop momenta:\n",
      "[\"p[1]*p[2] => 1//2*t[1]\"]\n",
      "[\"p[1]*p[3] => 1//2*t[2]\"]\n",
      "[\"p[2]*p[3] => -1//2*t[1] - 1//2*t[2]\"]\n",
      "Assignment of Baikov variables (Z_i) are:\n",
      "[\"z[1] => p[3]*q[1]\"]\n",
      "[\"z[2] => q[1]^2\"]\n",
      "[\"z[3] => -2*p[1]*q[1] + q[1]^2\"]\n",
      "[\"z[4] => 2*p[1]*p[2] - 2*p[1]*q[1] - 2*p[2]*q[1] + q[1]^2\"]\n",
      "[\"z[5] => p[1]*q[2]\"]\n",
      "[\"z[6] => q[2]^2\"]\n",
      "[\"z[7] => 2*p[1]*p[2] - 2*p[1]*q[2] - 2*p[2]*q[2] + q[2]^2\"]\n",
      "[\"z[8] => -2*p[1]*q[2] - 2*p[2]*q[2] - 2*p[3]*q[2] + q[2]^2\"]\n",
      "[\"z[9] => q[1]^2 - 2*q[1]*q[2] + q[2]^2\"]\n"
     ]
    }
   ],
   "source": [
    "IBP=computeIBP(G,[1,1,1,0,0,1,0,0,0],4,false);"
   ]
  },
  {
   "cell_type": "code",
   "execution_count": 7,
   "metadata": {},
   "outputs": [
    {
     "name": "stdout",
     "output_type": "stream",
     "text": [
      "First 5 IBP identities associated to G  (Total number of relations=36):\n",
      "0=(-t[2]*D + 9*t[2])I(-1,-1,0,0,0,-1,0,0,0)+(-2*D + 20)I(0,-1,0,0,0,-1,0,0,0)\n",
      "\n",
      "0=(t[1] + t[2]*D - 9*t[2])I(-1,0,-1,0,0,-1,0,0,0)+(t[2]*D - 9*t[2])I(-1,-1,-1,0,0,0,0,0,0)+(-t[2]*D + 9*t[2])I(-1,-1,-1,0,0,-1,0,0,1)+(-4*D + 44)I(0,-1,-1,0,1,-1,0,0,0)+(-1)I(-1,0,-1,0,0,-1,1,0,0)+(1)I(-1,0,-1,0,0,-1,0,1,0)\n",
      "\n",
      "0=(-t[1]*D + 10*t[1])I(-1,-1,0,0,0,-1,0,0,0)+(D - 10)I(-1,-1,0,0,0,-1,1,0,0)+(-D + 10)I(-1,-1,0,0,0,-1,0,1,0)\n",
      "\n",
      "0=(-2*t[1]*D + 22*t[1])I(0,-1,-1,0,0,-1,0,0,0)+(-t[1]*D + 11*t[1])I(-1,0,-1,0,0,-1,0,0,0)+(t[1]*D - 11*t[1])I(-1,-1,-1,1,0,-1,0,0,0)+(-4*D + 48)I(0,-1,-1,0,0,0,0,0,0)+(2*D - 22)I(0,-1,-1,0,0,-1,1,0,0)+(-2*D + 22)I(0,-1,-1,0,0,-1,0,0,1)+(D - 11)I(-1,0,-1,0,0,0,0,0,0)+(D - 11)I(-1,0,-1,0,0,-1,1,0,0)+(-D + 11)I(-1,0,-1,0,0,-1,0,1,0)+(-D + 11)I(-1,0,-1,0,0,-1,0,0,1)+(-D + 11)I(-1,-1,-1,1,0,-1,1,0,0)+(D - 11)I(-1,-1,-1,1,0,-1,0,1,0)+(-2)I(0,0,-1,0,0,-1,0,0,0)+(-1)I(-1,1,-1,0,0,-1,0,0,0)\n",
      "\n",
      "0=(t[1]*t[2])I(-1,-1,-1,0,0,-1,0,0,0)+(-t[1]*D + 12*t[1])I(-1,-1,-1,0,1,-1,0,0,0)+(-2*t[1] - 2*t[2]*D + 16*t[2])I(0,-1,-1,0,0,-1,0,0,0)+(-2*t[1] - 2*t[2])I(-1,0,-1,0,0,-1,0,0,0)+(2*t[1])I(-1,-1,0,0,0,-1,0,0,0)+(t[2]*D - 9*t[2])I(-1,-1,-1,1,0,-1,0,0,0)+(t[2]*D - 8*t[2])I(-1,-1,-1,0,0,0,0,0,0)+(t[2])I(-1,-1,-1,0,0,-1,0,0,1)+(-D + 12)I(-1,0,-1,0,0,0,0,0,0)+(D - 12)I(-1,-1,0,0,0,0,0,0,0)+(D - 12)I(-1,-1,-1,0,1,-1,1,0,0)+(-D + 12)I(-1,-1,-1,0,1,-1,0,1,0)+(1)I(-1,0,-1,0,0,-1,1,0,0)+(-1)I(-1,0,-1,0,0,-1,0,1,0)+(-1)I(-1,-1,0,0,0,-1,1,0,0)+(1)I(-1,-1,0,0,0,-1,0,1,0)\n",
      "\n"
     ]
    }
   ],
   "source": [
    "printIBP(set_IBP.setIBP,3);"
   ]
  }
 ],
 "metadata": {
  "kernelspec": {
   "display_name": "Julia 1.10.4",
   "language": "julia",
   "name": "julia-1.10"
  },
  "language_info": {
   "file_extension": ".jl",
   "mimetype": "application/julia",
   "name": "julia",
   "version": "1.10.4"
  }
 },
 "nbformat": 4,
 "nbformat_minor": 4
}
